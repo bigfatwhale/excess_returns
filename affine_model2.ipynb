{
 "cells": [
  {
   "cell_type": "markdown",
   "metadata": {},
   "source": [
    "# Affine Model with Stochastic Market Price of Risk\n",
    "\n",
    "The model uses as state variables, \n",
    "1. the short-rate $r_t$\n",
    "2. its own stochastic reversion level $\\theta_t$\n",
    "3. the market-price-of-risk $\\lambda_t$\n",
    "\n",
    "The SDEs are as follows, \n",
    "\n",
    "$$\n",
    "\\begin{aligned}\n",
    "dr_t &= \\kappa_{r}\\left[\\theta_t - r_t\\right]dt + \\sigma_r dz_t^r\\\\\n",
    "d\\theta_t &= \\kappa_{\\theta}\\left[\\theta^{\\infty} - \\theta_t\\right]dt + \\lambda_t^{\\theta}\\sigma_{\\theta}dt+ \\sigma_{\\theta} dz_t^r\\\\\n",
    "d\\lambda_t^{\\theta} &= \\kappa_{\\lambda}\\left[\\lambda^{\\infty} - \\lambda^{\\theta}_t\\right]dt + \\sigma_{\\lambda} dz_t^{\\lambda}\\\\\n",
    "\\end{aligned}\n",
    "$$\n",
    "with\n",
    "$$\n",
    "\\begin{aligned}\n",
    "E\\left[drd\\theta\\right]&=\\rho_{r\\theta}\\\\\n",
    "E\\left[drd\\lambda\\right]&=\\rho_{r\\lambda}\\\\\n",
    "E\\left[d\\theta d\\lambda\\right]&=\\rho_{\\theta \\lambda}\\\\\n",
    "\\end{aligned}\n",
    "$$\n",
    "\n",
    "The short-rate also takes an affine form, \n",
    "\n",
    "$$\n",
    "\\begin{aligned}\n",
    "r_t &= u_r + \\mathbf{g}^T \\mathbf{x}_t \\\\\n",
    "\\text{with}\\\\\n",
    "u_r &= 0\\\\\n",
    "\\mathbf{g}^T &= \\begin{bmatrix} 0 & 0 & 1 \\end{bmatrix} \n",
    "\n",
    "\\end{aligned}\n",
    "$$\n",
    "\n",
    "The state variables (in vector form), \n",
    "\n",
    "$$\n",
    "\\mathbf{x}_t=\\begin{bmatrix} x_t^1 \\cr x_t^2 \\cr x_t^3 \\end{bmatrix} = \\begin{bmatrix} \\lambda_t^{\\theta} \\cr \\theta_t \\cr r_t \\end{bmatrix} \n",
    "$$\n",
    "\n",
    "follows the dynamics (in vector form, \n",
    "\n",
    "$$\n",
    "\\begin{aligned}\n",
    "d\\mathbf{x}_t &= \\mathcal{K}(\\pmb{\\theta} - \\mathbf{x}_t)dt + Sd\\mathbf{z}_t\\\\\n",
    "d\\mathbf{x}_t&=\\begin{bmatrix} dx_t^1 \\cr dx_t^2 \\cr dx_t^3 \\end{bmatrix} = \\begin{bmatrix} \\kappa_{\\lambda} & 0 & 0\\\\ -\\sigma_{\\theta} & \\kappa_{\\theta} & 0 \\\\ 0 & -\\kappa_r & \\kappa_r\\end{bmatrix} \\left(\\begin{bmatrix} \\lambda^\\infty\\\\ \\Theta^\\infty +\\frac{\\sigma_\\theta\\lambda^\\infty}{\\kappa_\\theta} \\\\  \\Theta^\\infty +\\frac{\\sigma_\\theta\\lambda^\\infty}{\\kappa_\\theta}\\end{bmatrix}- \\begin{bmatrix} \\lambda_t^{\\theta} \\cr \\theta_t \\cr r_t \\end{bmatrix} \\right)dt +\\begin{bmatrix} s_{11} & 0 & 0\\\\ s_{21} & s_{22} & 0 \\\\ s_{31} & s_{32} & s_{33} \\end{bmatrix} d\\mathbf{z}_t\\\\\n",
    "\\text{where}\\\\\n",
    "s_{11}&=\\sigma_\\lambda\\\\\n",
    "s_{21}&=\\sigma_{\\theta}\\rho_{\\theta \\lambda}\\\\\n",
    "s_{22}&=\\sigma_{\\theta}\\sqrt{1-\\rho^2_{\\theta \\lambda}}\\\\\n",
    "s_{31}&=\\sigma_{r}\\rho_{ \\lambda r}\\\\\n",
    "s_{32}&=\\sigma_r\\frac{\\rho_{\\theta r}- \\rho_{\\lambda\\theta}\\rho_{\\lambda r}}{\\sqrt{1-\\rho^2_{\\theta \\lambda}}}\\\\\n",
    "s_{33}&=\\sigma_r \\sqrt{1-\\rho^2_{\\lambda r}-\\frac{\\left(\\rho_{\\theta r}- \\rho_{\\lambda\\theta}\\rho_{\\lambda r}\\right)^2}{1-\\rho^2_{\\theta \\lambda}}}\n",
    "\\end{aligned}\n",
    "$$\n",
    "\n"
   ]
  },
  {
   "cell_type": "markdown",
   "metadata": {},
   "source": [
    "Altogether in one, \n",
    "\n",
    "$$\n",
    "d\\mathbf{x}_t=\\begin{bmatrix} dx_t^1 \\cr dx_t^2 \\cr dx_t^3 \\end{bmatrix} = \\begin{bmatrix} \\kappa_{\\lambda} & 0 & 0\\\\ -\\sigma_{\\theta} & \\kappa_{\\theta} & 0 \\\\ 0 & -\\kappa_r & \\kappa_r\\end{bmatrix} \\left(\\begin{bmatrix} \\lambda^\\infty\\\\ \\Theta^\\infty +\\frac{\\sigma_\\theta\\lambda^\\infty}{\\kappa_\\theta} \\\\  \\Theta^\\infty +\\frac{\\sigma_\\theta\\lambda^\\infty}{\\kappa_\\theta}\\end{bmatrix}- \\begin{bmatrix} \\lambda_t^{\\theta} \\cr \\theta_t \\cr r_t \\end{bmatrix} \\right)dt +\\begin{bmatrix} \\sigma_\\lambda & 0 & 0\\\\ \\sigma_{\\theta}\\rho_{\\theta \\lambda} & \\sigma_{\\theta}\\sqrt{1-\\rho^2_{\\theta \\lambda}} & 0 \\\\ \\sigma_{r}\\rho_{ \\lambda r} & \\sigma_r\\frac{\\rho_{\\theta r}- \\rho_{\\lambda\\theta}\\rho_{\\lambda r}}{\\sqrt{1-\\rho^2_{\\theta \\lambda}}} & \\sigma_r \\sqrt{1-\\rho^2_{\\lambda r}-\\frac{\\left(\\rho_{\\theta r}- \\rho_{\\lambda\\theta}\\rho_{\\lambda r}\\right)^2}{1-\\rho^2_{\\theta \\lambda}}} \\end{bmatrix} d\\mathbf{z}_t\\\\\n",
    "$$"
   ]
  },
  {
   "cell_type": "markdown",
   "metadata": {},
   "source": [
    "The bond price $P_t^T$ is given by, \n",
    "$$\n",
    "P_t^T = e^{A_t^T+\\mathbf{B}^T\\mathbf{x}_t}\n",
    "$$"
   ]
  },
  {
   "cell_type": "markdown",
   "metadata": {},
   "source": [
    "$$\n",
    "\\Theta\n",
    "$$"
   ]
  },
  {
   "cell_type": "code",
   "execution_count": 20,
   "metadata": {},
   "outputs": [],
   "source": [
    "from collections import namedtuple\n",
    "\n",
    "import matplotlib.pyplot as plt\n",
    "import numpy as np\n",
    "import pandas as pd\n",
    "import statsmodels.api as sm\n",
    "from numpy import linalg as LA\n",
    "from pandas.tseries.offsets import MonthEnd\n",
    "from scipy.linalg import expm\n"
   ]
  },
  {
   "cell_type": "code",
   "execution_count": 52,
   "metadata": {},
   "outputs": [],
   "source": [
    "PCAffineParams = namedtuple('PCAffineParams', '''\n",
    "r0\n",
    "theta_0\n",
    "lambda_0\n",
    "mu_r\n",
    "g_T\n",
    "kappa_r\n",
    "kappa_theta\n",
    "kappa_lambda\n",
    "sigma_r\n",
    "sigma_theta\n",
    "sigma_lambda\n",
    "theta_hat_t\n",
    "lambda_hat_t\n",
    "rho_r_theta\n",
    "rho_r_lambda\n",
    "rho_theta_lambda\n",
    "'''\n",
    ")\n",
    "    "
   ]
  },
  {
   "cell_type": "code",
   "execution_count": 15,
   "metadata": {},
   "outputs": [],
   "source": [
    "maturities = [2, 5, 10]"
   ]
  },
  {
   "cell_type": "code",
   "execution_count": 133,
   "metadata": {},
   "outputs": [],
   "source": [
    "yields_data = pd.read_excel('feds200628.xlsx', sheet_name='Yields', skiprows=1, index_col='Date', parse_dates=True )\n",
    "yields_data = yields_data.div(100.)\n",
    "# yields_data = yields_data.loc[:, [f'SVENY{x:02d}' for x in range(1, 31)] ]\n",
    "# yields_data = yields_data.loc[:, [f'SVENY{x:02d}' for x in maturities] ]\n",
    "yields_data = yields_data.dropna(how='any')"
   ]
  },
  {
   "cell_type": "code",
   "execution_count": 10,
   "metadata": {},
   "outputs": [],
   "source": [
    "#yields_data.plot(figsize=(12, 8))"
   ]
  },
  {
   "cell_type": "code",
   "execution_count": 11,
   "metadata": {},
   "outputs": [],
   "source": [
    "#yields_data"
   ]
  },
  {
   "cell_type": "code",
   "execution_count": 12,
   "metadata": {},
   "outputs": [],
   "source": [
    "#yields_data.mean()"
   ]
  },
  {
   "cell_type": "code",
   "execution_count": 13,
   "metadata": {},
   "outputs": [],
   "source": [
    "#yields_data - yields_data.mean()"
   ]
  },
  {
   "cell_type": "code",
   "execution_count": 15,
   "metadata": {},
   "outputs": [],
   "source": [
    "yield_changes = yields_data.diff()\n",
    "# yield_changes"
   ]
  },
  {
   "cell_type": "code",
   "execution_count": 26,
   "metadata": {},
   "outputs": [
    {
     "data": {
      "text/html": [
       "<div>\n",
       "<style scoped>\n",
       "    .dataframe tbody tr th:only-of-type {\n",
       "        vertical-align: middle;\n",
       "    }\n",
       "\n",
       "    .dataframe tbody tr th {\n",
       "        vertical-align: top;\n",
       "    }\n",
       "\n",
       "    .dataframe thead th {\n",
       "        text-align: right;\n",
       "    }\n",
       "</style>\n",
       "<table border=\"1\" class=\"dataframe\">\n",
       "  <thead>\n",
       "    <tr style=\"text-align: right;\">\n",
       "      <th></th>\n",
       "      <th>SVENY02</th>\n",
       "      <th>SVENY05</th>\n",
       "      <th>SVENY10</th>\n",
       "    </tr>\n",
       "  </thead>\n",
       "  <tbody>\n",
       "    <tr>\n",
       "      <th>SVENY02</th>\n",
       "      <td>4.636868e-07</td>\n",
       "      <td>4.145176e-07</td>\n",
       "      <td>3.274264e-07</td>\n",
       "    </tr>\n",
       "    <tr>\n",
       "      <th>SVENY05</th>\n",
       "      <td>4.145176e-07</td>\n",
       "      <td>4.616632e-07</td>\n",
       "      <td>4.019395e-07</td>\n",
       "    </tr>\n",
       "    <tr>\n",
       "      <th>SVENY10</th>\n",
       "      <td>3.274264e-07</td>\n",
       "      <td>4.019395e-07</td>\n",
       "      <td>4.219698e-07</td>\n",
       "    </tr>\n",
       "  </tbody>\n",
       "</table>\n",
       "</div>"
      ],
      "text/plain": [
       "              SVENY02       SVENY05       SVENY10\n",
       "SVENY02  4.636868e-07  4.145176e-07  3.274264e-07\n",
       "SVENY05  4.145176e-07  4.616632e-07  4.019395e-07\n",
       "SVENY10  3.274264e-07  4.019395e-07  4.219698e-07"
      ]
     },
     "execution_count": 26,
     "metadata": {},
     "output_type": "execute_result"
    }
   ],
   "source": [
    "yields_cov = yield_changes.cov()\n",
    "yields_cov"
   ]
  },
  {
   "cell_type": "code",
   "execution_count": 28,
   "metadata": {},
   "outputs": [
    {
     "data": {
      "text/plain": [
       "(array([1.21398334e-06, 1.15291965e-07, 1.80445201e-08]),\n",
       " array([[-0.57490852, -0.7196263 ,  0.38938179],\n",
       "        [-0.60881959,  0.05829518, -0.79116394],\n",
       "        [-0.54664329,  0.69191015,  0.47163699]]))"
      ]
     },
     "execution_count": 28,
     "metadata": {},
     "output_type": "execute_result"
    }
   ],
   "source": [
    "w, v = LA.eig(yields_cov)\n",
    "w, v"
   ]
  },
  {
   "cell_type": "code",
   "execution_count": 31,
   "metadata": {},
   "outputs": [
    {
     "data": {
      "text/plain": [
       "array([[ 1.00000000e+00,  5.55111512e-17, -1.11022302e-16],\n",
       "       [ 5.55111512e-17,  1.00000000e+00,  0.00000000e+00],\n",
       "       [-1.11022302e-16,  0.00000000e+00,  1.00000000e+00]])"
      ]
     },
     "execution_count": 31,
     "metadata": {},
     "output_type": "execute_result"
    }
   ],
   "source": [
    "np.matmul(v, v.T)"
   ]
  },
  {
   "cell_type": "code",
   "execution_count": 16,
   "metadata": {},
   "outputs": [
    {
     "data": {
      "text/plain": [
       "array([[0.01, 0.  , 0.  ],\n",
       "       [0.  , 0.5 , 0.  ],\n",
       "       [0.  , 0.  , 0.6 ]])"
      ]
     },
     "execution_count": 16,
     "metadata": {},
     "output_type": "execute_result"
    }
   ],
   "source": [
    "eigenvalues = [0.01,0.5,0.6]\n",
    "eigenmatrix = np.diag(eigenvalues)\n",
    "eigenmatrix"
   ]
  },
  {
   "cell_type": "code",
   "execution_count": 25,
   "metadata": {},
   "outputs": [
    {
     "data": {
      "text/plain": [
       "array([0.0175, 0.7   , 0.7   ])"
      ]
     },
     "execution_count": 25,
     "metadata": {},
     "output_type": "execute_result"
    }
   ],
   "source": [
    "( np.array(eigenvalues) * 7 ) / np.array([4.,5.,6.])"
   ]
  },
  {
   "cell_type": "code",
   "execution_count": 26,
   "metadata": {},
   "outputs": [
    {
     "data": {
      "text/plain": [
       "array([0.25, 0.4 , 0.5 ])"
      ]
     },
     "execution_count": 26,
     "metadata": {},
     "output_type": "execute_result"
    }
   ],
   "source": [
    " np.array([1.,2.,3.]) / np.array([4.,5.,6.])"
   ]
  },
  {
   "cell_type": "code",
   "execution_count": 8,
   "metadata": {},
   "outputs": [
    {
     "data": {
      "text/plain": [
       "array([[1],\n",
       "       [2],\n",
       "       [3]])"
      ]
     },
     "execution_count": 8,
     "metadata": {},
     "output_type": "execute_result"
    }
   ],
   "source": [
    "np.array([1,2,3]).reshape((3, 1))"
   ]
  },
  {
   "cell_type": "code",
   "execution_count": null,
   "metadata": {},
   "outputs": [],
   "source": [
    "# kappa_r, kappa_theta, kappa_lambda, \n",
    "#                     sigma_r, sigma_theta, sigma_lambda, \n",
    "#                     rho_lambda_theta, rho_lambda_r, rho_theta_r,\n",
    "#                     lambda_lt, theta_lt, T):"
   ]
  },
  {
   "cell_type": "code",
   "execution_count": 130,
   "metadata": {},
   "outputs": [],
   "source": [
    "class PCAffineModel:\n",
    "\n",
    "    def __init__(self, yields_data):\n",
    "        self.yields_data = yields_data\n",
    "\n",
    "\n",
    "    def fit(self, initial_params=None):\n",
    "\n",
    "        # 1. calibrate to the covariance matrix\n",
    "        yield_changes = self.yields_data.diff()\n",
    "        yields_cov = yield_changes.cov()\n",
    "        print(yields_cov)\n",
    "\n",
    "\n",
    "        # eigen_yield_cov, omega_mat = LA.eig(yields_cov)\n",
    "        # self.KappaMatrix = self.makeKappaMatrix(eigenvalues, maturities, omega_mat)\n",
    "        # # self.FMatrix = self.makeFMatrix(eigenvalues, maturities)\n",
    "        # self.makeAMatrix(eigenvalues, maturities, self.mu_r)\n",
    "\n",
    "    def makeFMatrix(self, eigenvalues, MMatrix, T):\n",
    "        Fmatrix = np.zeros((len(eigenvalues), len(eigenvalues)))\n",
    "\n",
    "        for i, mat in enumerate(eigenvalues):\n",
    "            for j, eig in enumerate(eigenvalues):\n",
    "                li = eigenvalues[i]\n",
    "                lj = eigenvalues[j]\n",
    "                Fmatrix[i, j] = MMatrix[i, j] * (( 1 - np.exp((li + lj)*T) )/ (li+lj))\n",
    "        return Fmatrix\n",
    "    \n",
    "    def makeKappaMatrix(self, kappa_lambda, sigma_theta, kappa_theta, kappa_r ):\n",
    "\n",
    "        return np.array([\n",
    "            [kappa_lambda, 0., 0.], \n",
    "            [-sigma_theta, kappa_theta, 0.], \n",
    "            [0., -kappa_r, kappa_r], \n",
    "        ])\n",
    "\n",
    "    def makeThetaVec(self, params):\n",
    "        p = params\n",
    "        # lambda_lt is lambda_infty\n",
    "        # lambda_lt, theta_lt, sigma_theta, kappa_theta\n",
    "        return np.array([p.lambda_hat_t, p.theta_hat_t + (p.sigma_theta * p.lambda_hat_t)/p.kappa_theta,  \n",
    "                         p.theta_hat_t + (p.sigma_theta * p.lambda_hat_t)/p.kappa_theta])\n",
    "\n",
    "    def makeSMatrix(self, params): # sigma_lambda, sigma_theta, sigma_r, rho_lambda_theta, rho_lambda_r, rho_theta_r)\n",
    "        p = params\n",
    "        return np.array([\n",
    "            [p.sigma_lambda, 0., 0.], \n",
    "            [p.sigma_theta * p.rho_theta_lambda, p.sigma_theta * np.sqrt(1-p.rho_theta_lambda**2), 0.], \n",
    "            [p.sigma_r*p.rho_r_lambda, p.sigma_r*((p.rho_r_theta-p.rho_theta_lambda*p.rho_r_lambda)/(np.sqrt(1-p.rho_theta_lambda**2))), \n",
    "                p.sigma_r*np.sqrt(1 - p.rho_r_lambda**2 - (((p.rho_r_theta-p.rho_theta_lambda*p.rho_r_lambda)**2)/(1-p.rho_theta_lambda**2)))], \n",
    "            ])\n",
    "\n",
    "    def makeBRowVec(self, eigenvalues, maturities, omega):\n",
    "        res = np.zeros((1,3))\n",
    "        kappa_matrix = self.makeKappaMatrix(eigenvalues, maturities, omega)\n",
    "        kappa_matrix_inv = LA.inv(kappa_matrix)\n",
    "\n",
    "        FMatrix = self.makeFMatrix(eigenvalues, maturities)\n",
    "        g = omega.T @ ( LA.inv(FMatrix.T).dot(np.ones(3)) )\n",
    "        for i, tau in enumerate(maturities):\n",
    "            res[i] = g.T @ ( kappa_matrix_inv @ ( expm(-kappa_matrix * tau) - np.eye(3) ) )\n",
    "        return res\n",
    "    \n",
    "    def makeDTMatrix(self, eigenvalues, T ):\n",
    "\n",
    "        return np.diag( (1-np.exp(np.array(eigenvalues) * T)) / np.array(eigenvalues) )\n",
    "\n",
    "    def makeMMatrix(self, eigenvec_inv, SMatrix):\n",
    "\n",
    "        C = SMatrix @ SMatrix.T\n",
    "        return ( eigenvec_inv @ ( C @ eigenvec_inv.T) )\n",
    "\n",
    "    def makeAMatrix(self, params, T):\n",
    "        p = params\n",
    "        Int1 = -p.mu_r * T\n",
    "        \n",
    "        #Int2\n",
    "        kappaMatrix = self.makeKappaMatrix( p.kappa_lambda, p.sigma_theta, p.kappa_theta, p.kappa_r )\n",
    "        kappaMatrix_inv = LA.inv(kappaMatrix)\n",
    "        eigenvalues, eigenvectors = LA.eig(kappaMatrix)\n",
    "        eigenD = np.diag(eigenvalues)\n",
    "        eigenD_inv = LA.inv(eigenD)\n",
    "        eigenvec_inv = LA.inv(eigenvectors)\n",
    "\n",
    "        Dmatrix = self.makeDTMatrix(eigenvalues, T)\n",
    "        Theta_Vec = self.makeThetaVec(params)\n",
    "        Int2 = p.g_T @ ( ( eigenvectors @ ( eigenD_inv @ ( Dmatrix @ (eigenD @ (eigenvec_inv @ Theta_Vec) ) ) ) ) - (Theta_Vec * T) )\n",
    "\n",
    "        #Int3a\n",
    "        SMatrix = self.makeSMatrix(params)\n",
    "        MMatrix = self.makeMMatrix(eigenvec_inv, SMatrix)\n",
    "        FMatrix = self.makeFMatrix(eigenvalues, MMatrix, T)\n",
    "        Int3a = 0.5 * p.g_T @ (kappaMatrix_inv @ ( eigenvectors @ ( FMatrix @ (eigenD_inv @ (eigenvectors.T @ p.g_T.T) ) ) ) )\n",
    "\n",
    "        #Int3b\n",
    "        C = SMatrix @ SMatrix.T\n",
    "        Int3b = -0.5 * p.g_T  @ ( kappaMatrix_inv @ ( C @ ( eigenvec_inv.T @ ( Dmatrix @ (eigenD_inv @ (eigenvectors.T @ p.g_T.T) ) ) ) ) )\n",
    "\n",
    "        #Int3c\n",
    "        Int3c = -0.5 * p.g_T @ ( kappaMatrix_inv @ ( eigenvectors @ ( Dmatrix @ ( eigenvec_inv @ ( C @ ( LA.inv(kappaMatrix.T) @ p.g_T.T ) ) ) ) ) )\n",
    "\n",
    "        #Int3d\n",
    "        Int3d = 0.5 * p.g_T @ ( kappaMatrix_inv @ ( C @ ( LA.inv(kappaMatrix.T) @ p.g_T.T ) ) ) * T\n",
    "        return Int1 + Int2 + Int3a + Int3b + Int3c + Int3d\n",
    "\n",
    "    def makeBMatrix(self, params, T):\n",
    "        p = params\n",
    "        kappaMatrix = self.makeKappaMatrix( p.kappa_lambda, p.sigma_theta, p.kappa_theta, p.kappa_r )\n",
    "\n",
    "        return p.g_T @ ( LA.inv(kappaMatrix) @ (expm(-kappaMatrix * T) - np.eye(3)) )\n",
    "        "
   ]
  },
  {
   "cell_type": "code",
   "execution_count": 131,
   "metadata": {},
   "outputs": [
    {
     "data": {
      "text/plain": [
       "PCAffineParams(r0=-0.0042, theta_0=0.0344, lambda_0=0.0744, mu_r=0.0, g_T=array([0., 0., 1.]), kappa_r=0.3437, kappa_theta=0.0085, kappa_lambda=0.2816, sigma_r=0.005, sigma_theta=0.0157, sigma_lambda=0.12, theta_hat_t=0.035, lambda_hat_t=0.1287, rho_r_theta=0.6, rho_r_lambda=-0.05, rho_theta_lambda=0.64)"
      ]
     },
     "execution_count": 131,
     "metadata": {},
     "output_type": "execute_result"
    }
   ],
   "source": [
    "params = PCAffineParams(        \n",
    "    r0 = -0.0042,\n",
    "    theta_0 = 0.0344,\n",
    "    lambda_0 = 0.0744,\n",
    "    mu_r = 0.,\n",
    "    g_T = np.array([0.,0.,1.]),\n",
    "    kappa_r = 0.3437,\n",
    "    kappa_theta = 0.0085,\n",
    "    kappa_lambda = 0.2816,\n",
    "    sigma_r = 0.0050,\n",
    "    sigma_theta = 0.0157,\n",
    "    sigma_lambda = 0.12,\n",
    "    theta_hat_t = 0.035,\n",
    "    lambda_hat_t = 0.1287,\n",
    "    rho_r_theta = 0.6,\n",
    "    rho_r_lambda = -0.05,\n",
    "    rho_theta_lambda = 0.64,\n",
    ")\n",
    "\n",
    "p = params\n",
    "p"
   ]
  },
  {
   "cell_type": "code",
   "execution_count": 132,
   "metadata": {},
   "outputs": [
    {
     "name": "stdout",
     "output_type": "stream",
     "text": [
      "              SVENY02       SVENY05       SVENY10\n",
      "SVENY02  4.636868e-07  4.145176e-07  3.274264e-07\n",
      "SVENY05  4.145176e-07  4.616632e-07  4.019395e-07\n",
      "SVENY10  3.274264e-07  4.019395e-07  4.219698e-07\n"
     ]
    }
   ],
   "source": [
    "pca_model = PCAffineModel(yields_data)\n",
    "# pca_model.fit(eigenvalues, maturities)\n",
    "# kappaMatrix = pca_model.makeKappaMatrix( p.kappa_lambda, p.sigma_theta, p.kappa_theta, p.kappa_r )\n",
    "# AMatrix = pca_model.makeAMatrix(p, 10.)\n",
    "# BMatrix = pca_model.makeBMatrix(params, 10.)\n",
    "\n",
    "pca_model.fit()"
   ]
  },
  {
   "cell_type": "code",
   "execution_count": 126,
   "metadata": {},
   "outputs": [
    {
     "data": {
      "text/plain": [
       "(53.196616378193, array([-0.23281066, -6.94254407, -2.81594116]))"
      ]
     },
     "execution_count": 126,
     "metadata": {},
     "output_type": "execute_result"
    }
   ],
   "source": [
    "AMatrix, BMatrix"
   ]
  },
  {
   "cell_type": "code",
   "execution_count": 31,
   "metadata": {},
   "outputs": [],
   "source": [
    "eigenvalues, eigenvectors = LA.eig(kappaMatrix)"
   ]
  },
  {
   "cell_type": "code",
   "execution_count": 30,
   "metadata": {},
   "outputs": [
    {
     "data": {
      "text/plain": [
       "array([0.3437, 0.0085, 0.2816])"
      ]
     },
     "execution_count": 30,
     "metadata": {},
     "output_type": "execute_result"
    }
   ],
   "source": [
    "eigenvalues"
   ]
  },
  {
   "cell_type": "code",
   "execution_count": 33,
   "metadata": {},
   "outputs": [
    {
     "data": {
      "text/plain": [
       "array([[ 2.81600000e-01,  0.00000000e+00,  0.00000000e+00],\n",
       "       [-1.57000000e-02,  8.50000000e-03,  0.00000000e+00],\n",
       "       [-4.08763396e-18, -3.43700000e-01,  3.43700000e-01]])"
      ]
     },
     "execution_count": 33,
     "metadata": {},
     "output_type": "execute_result"
    }
   ],
   "source": [
    "eigenvectors @ np.diag(eigenvalues) @ LA.inv(eigenvectors)"
   ]
  },
  {
   "cell_type": "code",
   "execution_count": null,
   "metadata": {},
   "outputs": [],
   "source": []
  },
  {
   "cell_type": "code",
   "execution_count": null,
   "metadata": {},
   "outputs": [],
   "source": []
  }
 ],
 "metadata": {
  "interpreter": {
   "hash": "7d301edd2b3ea1a1732a6d315ef098b7867da20376b4249e09751807c858d1f7"
  },
  "kernelspec": {
   "display_name": "Python 3.9.12 ('research')",
   "language": "python",
   "name": "python3"
  },
  "language_info": {
   "codemirror_mode": {
    "name": "ipython",
    "version": 3
   },
   "file_extension": ".py",
   "mimetype": "text/x-python",
   "name": "python",
   "nbconvert_exporter": "python",
   "pygments_lexer": "ipython3",
   "version": "3.9.12"
  },
  "orig_nbformat": 4
 },
 "nbformat": 4,
 "nbformat_minor": 2
}
